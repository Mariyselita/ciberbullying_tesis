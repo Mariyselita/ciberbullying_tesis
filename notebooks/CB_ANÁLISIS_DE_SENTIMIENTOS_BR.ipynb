{
  "nbformat": 4,
  "nbformat_minor": 0,
  "metadata": {
    "colab": {
      "provenance": [],
      "authorship_tag": "ABX9TyM1cXlMQyizZ3yI3IX7jtSu",
      "include_colab_link": true
    },
    "kernelspec": {
      "name": "python3",
      "display_name": "Python 3"
    },
    "language_info": {
      "name": "python"
    }
  },
  "cells": [
    {
      "cell_type": "markdown",
      "metadata": {
        "id": "view-in-github",
        "colab_type": "text"
      },
      "source": [
        "<a href=\"https://colab.research.google.com/github/Mariyselita/Ciberbullying/blob/main/CB_AN%C3%81LISIS_DE_SENTIMIENTOS_BR.ipynb\" target=\"_parent\"><img src=\"https://colab.research.google.com/assets/colab-badge.svg\" alt=\"Open In Colab\"/></a>"
      ]
    },
    {
      "cell_type": "code",
      "execution_count": 1,
      "metadata": {
        "colab": {
          "base_uri": "https://localhost:8080/"
        },
        "id": "sUPcbmVGFg3W",
        "outputId": "b5c6b931-fd87-4ee6-a77f-8edf4c4c1ffd"
      },
      "outputs": [
        {
          "output_type": "stream",
          "name": "stdout",
          "text": [
            "Mounted at /content/drive\n"
          ]
        }
      ],
      "source": [
        "from google.colab import drive\n",
        "drive.mount('/content/drive')"
      ]
    },
    {
      "cell_type": "code",
      "source": [
        "filepath = '/content/drive/My Drive/DATASET_TESIS_CIC/PRUEBAS_TLN/CB_data_filtered.csv'"
      ],
      "metadata": {
        "id": "nLcVKqZjIlYh"
      },
      "execution_count": 2,
      "outputs": []
    },
    {
      "cell_type": "code",
      "source": [
        "!pip install pandas openpyxl"
      ],
      "metadata": {
        "colab": {
          "base_uri": "https://localhost:8080/"
        },
        "id": "bLAcQ3JkJAM3",
        "outputId": "0c5b57eb-cde9-4e1f-bee1-da3f32e74437"
      },
      "execution_count": 3,
      "outputs": [
        {
          "output_type": "stream",
          "name": "stdout",
          "text": [
            "Requirement already satisfied: pandas in /usr/local/lib/python3.11/dist-packages (2.2.2)\n",
            "Requirement already satisfied: openpyxl in /usr/local/lib/python3.11/dist-packages (3.1.5)\n",
            "Requirement already satisfied: numpy>=1.23.2 in /usr/local/lib/python3.11/dist-packages (from pandas) (2.0.2)\n",
            "Requirement already satisfied: python-dateutil>=2.8.2 in /usr/local/lib/python3.11/dist-packages (from pandas) (2.8.2)\n",
            "Requirement already satisfied: pytz>=2020.1 in /usr/local/lib/python3.11/dist-packages (from pandas) (2025.1)\n",
            "Requirement already satisfied: tzdata>=2022.7 in /usr/local/lib/python3.11/dist-packages (from pandas) (2025.1)\n",
            "Requirement already satisfied: et-xmlfile in /usr/local/lib/python3.11/dist-packages (from openpyxl) (2.0.0)\n",
            "Requirement already satisfied: six>=1.5 in /usr/local/lib/python3.11/dist-packages (from python-dateutil>=2.8.2->pandas) (1.17.0)\n"
          ]
        }
      ]
    },
    {
      "cell_type": "code",
      "source": [
        "import pandas as pd\n",
        "import re"
      ],
      "metadata": {
        "id": "mF8h-RYGJCnE"
      },
      "execution_count": 4,
      "outputs": []
    },
    {
      "cell_type": "code",
      "source": [
        "with open(filepath, 'r', encoding='utf-8') as file:\n",
        "    df = pd.read_csv(filepath)"
      ],
      "metadata": {
        "id": "h_imd9H9JI45"
      },
      "execution_count": 5,
      "outputs": []
    },
    {
      "cell_type": "code",
      "source": [
        "import nltk\n",
        "nltk.download('opinion_lexicon')\n",
        "\n",
        "from nltk.corpus import opinion_lexicon\n",
        "pos_words = set(opinion_lexicon.positive())\n",
        "neg_words = set(opinion_lexicon.negative())"
      ],
      "metadata": {
        "colab": {
          "base_uri": "https://localhost:8080/"
        },
        "id": "xdohN6PhJ0n2",
        "outputId": "64a4ea0d-f648-4cc1-826e-3109a13c7ea4"
      },
      "execution_count": 6,
      "outputs": [
        {
          "output_type": "stream",
          "name": "stderr",
          "text": [
            "[nltk_data] Downloading package opinion_lexicon to /root/nltk_data...\n",
            "[nltk_data]   Unzipping corpora/opinion_lexicon.zip.\n"
          ]
        }
      ]
    },
    {
      "cell_type": "code",
      "source": [
        "from nltk.tokenize import word_tokenize"
      ],
      "metadata": {
        "id": "1rEGTc54fZt8"
      },
      "execution_count": 8,
      "outputs": []
    },
    {
      "cell_type": "code",
      "source": [
        "def analyze_sentiment(text):\n",
        "    tokens = word_tokenize(text.lower())  # Tokenizar y pasar a minúsculas\n",
        "    pos_count = len([word for word in tokens if word in pos_words])\n",
        "    neg_count = len([word for word in tokens if word in neg_words])\n",
        "\n",
        "    if pos_count > neg_count:\n",
        "        return \"Positive\"\n",
        "    elif neg_count > pos_count:\n",
        "        return \"Negative\"\n",
        "    else:\n",
        "        return \"Neutral\""
      ],
      "metadata": {
        "id": "UU9Gbp0dW1Gi"
      },
      "execution_count": 9,
      "outputs": []
    },
    {
      "cell_type": "code",
      "source": [
        "nltk.download('punkt_tab')"
      ],
      "metadata": {
        "colab": {
          "base_uri": "https://localhost:8080/"
        },
        "id": "9EKOtem0mWmD",
        "outputId": "8d4ae2b0-d0c8-47a7-b6c2-e1cd8102845d"
      },
      "execution_count": 11,
      "outputs": [
        {
          "output_type": "stream",
          "name": "stderr",
          "text": [
            "[nltk_data] Downloading package punkt_tab to /root/nltk_data...\n",
            "[nltk_data]   Unzipping tokenizers/punkt_tab.zip.\n"
          ]
        },
        {
          "output_type": "execute_result",
          "data": {
            "text/plain": [
              "True"
            ]
          },
          "metadata": {},
          "execution_count": 11
        }
      ]
    },
    {
      "cell_type": "code",
      "source": [
        "# Aplicar la función a la columna de texto\n",
        "df['Sentiment'] = df['text_filtered'].astype(str).apply(analyze_sentiment)\n",
        "\n",
        "# Mostrar resultados\n",
        "print(df[['text_filtered', 'Sentiment']].head())"
      ],
      "metadata": {
        "colab": {
          "base_uri": "https://localhost:8080/"
        },
        "id": "4HYDu1HTenEs",
        "outputId": "af29c5c6-d075-456c-deaa-e501fda52958"
      },
      "execution_count": 13,
      "outputs": [
        {
          "output_type": "stream",
          "name": "stdout",
          "text": [
            "                                       text_filtered Sentiment\n",
            "0             bueno pusiste hashtag soportaría acoso   Neutral\n",
            "1           acabo mamarme latte frío dependiera vida   Neutral\n",
            "2                 ahí lamano cortometraje gol morena   Neutral\n",
            "3                                  vídeo genialisimo   Neutral\n",
            "4  jefe departamento secundarias generales sinalo...   Neutral\n"
          ]
        }
      ]
    },
    {
      "cell_type": "code",
      "source": [
        "df.to_csv('/content/drive/My Drive/DATASET_TESIS_CIC/PRUEBAS_TLN/CB_data_sentiment_analysis.csv', index=False)\n",
        "print(\"¡Análisis guardado en 'CB_data_sentiment_analysis.csv'!\")"
      ],
      "metadata": {
        "colab": {
          "base_uri": "https://localhost:8080/"
        },
        "id": "ITcGf1niexxy",
        "outputId": "b14ec3bc-48fb-4580-cfef-46cb9c7c1f09"
      },
      "execution_count": 14,
      "outputs": [
        {
          "output_type": "stream",
          "name": "stdout",
          "text": [
            "¡Análisis guardado en 'CB_data_sentiment_analysis.csv'!\n"
          ]
        }
      ]
    }
  ]
}
